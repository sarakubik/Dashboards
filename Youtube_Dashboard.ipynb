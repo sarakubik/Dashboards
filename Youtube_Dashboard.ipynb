{
 "cells": [
  {
   "cell_type": "markdown",
   "id": "10a9db7f",
   "metadata": {},
   "source": [
    "# Creating a Youtube dashboard using Streamlit"
   ]
  },
  {
   "cell_type": "code",
   "execution_count": 13,
   "id": "479fed55",
   "metadata": {},
   "outputs": [
    {
     "name": "stdout",
     "output_type": "stream",
     "text": [
      "Collecting plotly\n",
      "  Downloading plotly-5.7.0-py2.py3-none-any.whl (28.8 MB)\n",
      "Requirement already satisfied: six in c:\\users\\hp\\anaconda3\\lib\\site-packages (from plotly) (1.16.0)\n",
      "Collecting tenacity>=6.2.0\n",
      "  Using cached tenacity-8.0.1-py3-none-any.whl (24 kB)\n",
      "Installing collected packages: tenacity, plotly\n",
      "Successfully installed plotly-5.7.0 tenacity-8.0.1\n"
     ]
    }
   ],
   "source": [
    "# pip install streamlit\n",
    "#!pip install plotly \n",
    "\n",
    "#So what I've learned is sometimes you can do a pip install and sometimes you\n",
    "# need to do a !pip install!"
   ]
  },
  {
   "cell_type": "code",
   "execution_count": 3,
   "id": "caf3e227",
   "metadata": {},
   "outputs": [
    {
     "name": "stdout",
     "output_type": "stream",
     "text": [
      "conda 4.10.3\n",
      "\n",
      "Note: you may need to restart the kernel to use updated packages.\n"
     ]
    }
   ],
   "source": [
    "#What version of conda do I have?\n",
    "# Go to the top of the Notebook and click on Help and About\n",
    "# Python 3.9.7"
   ]
  },
  {
   "cell_type": "code",
   "execution_count": 14,
   "id": "d3ea9d1b",
   "metadata": {},
   "outputs": [],
   "source": [
    "#import librariesimport pandas as pd \n",
    "import pandas as pd \n",
    "import numpy as np \n",
    "import plotly.graph_objects as go\n",
    "import plotly.express as px\n",
    "import streamlit as st\n",
    "from datetime import datetime"
   ]
  },
  {
   "cell_type": "code",
   "execution_count": null,
   "id": "7924a848",
   "metadata": {},
   "outputs": [],
   "source": []
  },
  {
   "cell_type": "code",
   "execution_count": null,
   "id": "ca75cc7d",
   "metadata": {},
   "outputs": [],
   "source": []
  }
 ],
 "metadata": {
  "kernelspec": {
   "display_name": "Python 3 (ipykernel)",
   "language": "python",
   "name": "python3"
  },
  "language_info": {
   "codemirror_mode": {
    "name": "ipython",
    "version": 3
   },
   "file_extension": ".py",
   "mimetype": "text/x-python",
   "name": "python",
   "nbconvert_exporter": "python",
   "pygments_lexer": "ipython3",
   "version": "3.9.7"
  }
 },
 "nbformat": 4,
 "nbformat_minor": 5
}
